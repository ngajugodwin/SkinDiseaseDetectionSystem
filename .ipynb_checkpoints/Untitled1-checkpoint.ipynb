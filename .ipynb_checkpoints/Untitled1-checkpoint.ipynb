{
 "cells": [
  {
   "cell_type": "raw",
   "source": [],
   "metadata": {
    "collapsed": false
   },
   "id": "660ed926afa43636"
  }
 ],
 "metadata": {},
 "nbformat": 4,
 "nbformat_minor": 5
}
